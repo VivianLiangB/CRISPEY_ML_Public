{
 "cells": [
  {
   "cell_type": "code",
   "execution_count": 8,
   "metadata": {},
   "outputs": [],
   "source": [
    "import pandas as pd\n",
    "import numpy as np \n",
    "import random\n",
    "from sklearn import metrics\n",
    "from sklearn.metrics import mean_squared_error, r2_score, accuracy_score, confusion_matrix, precision_recall_curve, auc, roc_auc_score, roc_curve, recall_score, classification_report\n",
    "from sklearn import preprocessing\n",
    "from sklearn.model_selection import train_test_split\n",
    "from sklearn import metrics\n",
    "from collections import OrderedDict\n",
    "from imblearn.over_sampling import SMOTE\n",
    "from sklearn.model_selection import GridSearchCV\n",
    "from sklearn.preprocessing import StandardScaler\n",
    "from sklearn.model_selection import learning_curve\n",
    "from sklearn.svm import LinearSVC\n",
    "from sklearn.calibration import calibration_curve\n",
    "from keras.utils import np_utils\n",
    "from keras.utils.vis_utils import plot_model\n",
    "from keras.models import Sequential\n",
    "from keras.layers import Dense, Dropout\n",
    "from keras.models import model_from_yaml\n",
    "#plotting related things \n",
    "import matplotlib.pyplot as plt\n",
    "import seaborn as sns\n",
    "from keras.layers.normalization import BatchNormalization\n",
    "from sklearn.metrics import confusion_matrix,  classification_report,  roc_curve, roc_auc_score\n",
    "plt.rc(\"font\", size=14)\n",
    "import matplotlib as mpl\n",
    "mpl.rcParams['figure.dpi'] = 300\n",
    "import seaborn as sns\n",
    "sns.set(style=\"white\")\n",
    "sns.set(style=\"whitegrid\", color_codes=True)\n",
    "%matplotlib inline"
   ]
  },
  {
   "cell_type": "code",
   "execution_count": 2,
   "metadata": {},
   "outputs": [],
   "source": [
    "# fix random seed for reproducibility\n",
    "np.random.seed(7)"
   ]
  },
  {
   "cell_type": "code",
   "execution_count": 3,
   "metadata": {},
   "outputs": [
    {
     "name": "stdout",
     "output_type": "stream",
     "text": [
      "shapes for alt seq, post guide,  ref: (23397, 81) (23397, 20) (23397, 81)\n",
      "RM stack shape (23397, 182)\n",
      "y label shape (23397,)\n"
     ]
    }
   ],
   "source": [
    "'''\n",
    "Load arrays for preping DF: \n",
    "\n",
    "For structure of npz:\n",
    "arr one is DNA seq, arr two is label encoding, arr three is one hot \n",
    "\n",
    "Afterwards combine both 1 hot encoding\n",
    "'''\n",
    "RM_alt_seq = np.load('RM_alt_seq_Complete_V3.npz')\n",
    "RM_pos_guide = np.load('RM_pos_guide_Complete_V3.npz')\n",
    "RM_ref_seq = np.load('RM_ref_seq_Complete_V3.npz')\n",
    "\n",
    "RM_alt_seq_onehot =   RM_alt_seq['arr_2']\n",
    "RM_pos_guide_onehot = RM_pos_guide['arr_2']\n",
    "RM_ref_seq_onehot = RM_ref_seq['arr_2']\n",
    "\n",
    "print('shapes for alt seq, post guide,  ref:',\n",
    "      RM_alt_seq_onehot.shape, RM_pos_guide_onehot.shape, RM_ref_seq_onehot.shape)\n",
    "\n",
    "#stack arrays via cols\n",
    "RM_stacks = np.column_stack((RM_alt_seq_onehot, RM_pos_guide_onehot,\n",
    "                             RM_ref_seq_onehot))\n",
    "\n",
    "Y_labels= np.load('RM_var_DF_V3.npy')\n",
    "print('RM stack shape', RM_stacks.shape)\n",
    "print('y label shape', Y_labels.shape)"
   ]
  },
  {
   "cell_type": "code",
   "execution_count": 4,
   "metadata": {},
   "outputs": [
    {
     "name": "stdout",
     "output_type": "stream",
     "text": [
      "Shape of  X_train dataset:  (18717, 182)\n",
      "Shape of  y_train dataset:  (18717,)\n",
      "Shape of  X_test dataset:  (4680, 182)\n",
      "Shape of  y_test dataset:  (4680,)\n",
      " train counts of label '1': {} 249\n",
      "train counts of label '0': {} 18468\n",
      " test counts of label '1': {} 57\n",
      "test counts of label '0': {} 4623\n"
     ]
    }
   ],
   "source": [
    "# 3. Split the data & targets into training/testing sets\n",
    "X_train, X_test, y_train, y_test = train_test_split(RM_stacks, Y_labels,\n",
    "                                                    test_size=0.2, random_state=0)\n",
    "\n",
    "print(\"Shape of  X_train dataset: \", X_train.shape)\n",
    "print(\"Shape of  y_train dataset: \", y_train.shape)\n",
    "print(\"Shape of  X_test dataset: \", X_test.shape)\n",
    "print(\"Shape of  y_test dataset: \", y_test.shape)\n",
    "\n",
    "print(\" train counts of label '1': {}\", (sum(y_train==1)))\n",
    "print(\"train counts of label '0': {}\", (sum(y_train==0)))\n",
    "\n",
    "print(\" test counts of label '1': {}\", (sum(y_test==1)))\n",
    "print(\"test counts of label '0': {}\", (sum(y_test==0)))"
   ]
  },
  {
   "cell_type": "code",
   "execution_count": 5,
   "metadata": {},
   "outputs": [
    {
     "name": "stdout",
     "output_type": "stream",
     "text": [
      "Before OverSampling, counts of label '1': {} 249\n",
      "Before OverSampling, counts of label '0': {} 18468\n",
      "After OverSampling, the shape of train_X: (36936, 182)\n",
      "After OverSampling, the shape of train_y: (36936,) \n",
      "\n",
      "After OverSampling, counts of label '1': {} 18468\n",
      "After OverSampling, counts of label '0': {} 18468\n"
     ]
    }
   ],
   "source": [
    "print(\"Before OverSampling, counts of label '1': {}\", (sum(y_train==1)))\n",
    "print(\"Before OverSampling, counts of label '0': {}\", (sum(y_train==0)))\n",
    "\n",
    "sm = SMOTE(random_state=2)\n",
    "X_train_res, y_train_res = sm.fit_sample(X_train, y_train.ravel())\n",
    "\n",
    "print('After OverSampling, the shape of train_X: {}'.format(X_train_res.shape))\n",
    "print('After OverSampling, the shape of train_y: {} \\n'.format(y_train_res.shape))\n",
    "\n",
    "print(\"After OverSampling, counts of label '1': {}\", (sum(y_train_res==1)))\n",
    "print(\"After OverSampling, counts of label '0': {}\",(sum(y_train_res==0)))\n"
   ]
  },
  {
   "cell_type": "markdown",
   "metadata": {},
   "source": [
    "# NN 8 "
   ]
  },
  {
   "cell_type": "markdown",
   "metadata": {},
   "source": [
    "# Loading Model"
   ]
  },
  {
   "cell_type": "code",
   "execution_count": 9,
   "metadata": {
    "collapsed": true
   },
   "outputs": [
    {
     "name": "stderr",
     "output_type": "stream",
     "text": [
      "WARNING: Logging before flag parsing goes to stderr.\n",
      "W0603 13:16:41.694630 4671219136 deprecation_wrapper.py:118] From /anaconda3/lib/python3.7/site-packages/keras/backend/tensorflow_backend.py:529: The name tf.placeholder is deprecated. Please use tf.compat.v1.placeholder instead.\n",
      "\n",
      "W0603 13:16:41.735194 4671219136 deprecation_wrapper.py:118] From /anaconda3/lib/python3.7/site-packages/keras/backend/tensorflow_backend.py:4420: The name tf.random_uniform is deprecated. Please use tf.random.uniform instead.\n",
      "\n",
      "W0603 13:16:41.804016 4671219136 deprecation_wrapper.py:118] From /anaconda3/lib/python3.7/site-packages/keras/backend/tensorflow_backend.py:250: The name tf.get_default_graph is deprecated. Please use tf.compat.v1.get_default_graph instead.\n",
      "\n",
      "W0603 13:16:41.805018 4671219136 deprecation_wrapper.py:118] From /anaconda3/lib/python3.7/site-packages/keras/backend/tensorflow_backend.py:178: The name tf.get_default_session is deprecated. Please use tf.compat.v1.get_default_session instead.\n",
      "\n",
      "W0603 13:16:41.805709 4671219136 deprecation_wrapper.py:118] From /anaconda3/lib/python3.7/site-packages/keras/backend/tensorflow_backend.py:185: The name tf.ConfigProto is deprecated. Please use tf.compat.v1.ConfigProto instead.\n",
      "\n",
      "W0603 13:16:41.901422 4671219136 deprecation_wrapper.py:118] From /anaconda3/lib/python3.7/site-packages/keras/backend/tensorflow_backend.py:2029: The name tf.nn.fused_batch_norm is deprecated. Please use tf.compat.v1.nn.fused_batch_norm instead.\n",
      "\n",
      "W0603 13:16:41.963078 4671219136 deprecation_wrapper.py:118] From /anaconda3/lib/python3.7/site-packages/keras/backend/tensorflow_backend.py:4255: The name tf.nn.max_pool is deprecated. Please use tf.nn.max_pool2d instead.\n",
      "\n",
      "W0603 13:16:41.998373 4671219136 deprecation.py:506] From /anaconda3/lib/python3.7/site-packages/keras/backend/tensorflow_backend.py:3721: calling dropout (from tensorflow.python.ops.nn_ops) with keep_prob is deprecated and will be removed in a future version.\n",
      "Instructions for updating:\n",
      "Please use `rate` instead of `keep_prob`. Rate should be set to `rate = 1 - keep_prob`.\n"
     ]
    },
    {
     "name": "stdout",
     "output_type": "stream",
     "text": [
      "Loaded model from disk\n",
      "Model: \"model_1\"\n",
      "__________________________________________________________________________________________________\n",
      "Layer (type)                    Output Shape         Param #     Connected to                     \n",
      "==================================================================================================\n",
      "main_input (InputLayer)         (None, 1, 23, 4)     0                                            \n",
      "__________________________________________________________________________________________________\n",
      "conv2d_1 (Conv2D)               (None, 1, 23, 10)    50          main_input[0][0]                 \n",
      "__________________________________________________________________________________________________\n",
      "conv2d_2 (Conv2D)               (None, 1, 23, 10)    90          main_input[0][0]                 \n",
      "__________________________________________________________________________________________________\n",
      "conv2d_3 (Conv2D)               (None, 1, 23, 10)    130         main_input[0][0]                 \n",
      "__________________________________________________________________________________________________\n",
      "conv2d_4 (Conv2D)               (None, 1, 23, 10)    210         main_input[0][0]                 \n",
      "__________________________________________________________________________________________________\n",
      "concatenate_1 (Concatenate)     (None, 1, 23, 40)    0           conv2d_1[0][0]                   \n",
      "                                                                 conv2d_2[0][0]                   \n",
      "                                                                 conv2d_3[0][0]                   \n",
      "                                                                 conv2d_4[0][0]                   \n",
      "__________________________________________________________________________________________________\n",
      "batch_normalization_1 (BatchNor (None, 1, 23, 40)    160         concatenate_1[0][0]              \n",
      "__________________________________________________________________________________________________\n",
      "max_pooling2d_1 (MaxPooling2D)  (None, 1, 4, 40)     0           batch_normalization_1[0][0]      \n",
      "__________________________________________________________________________________________________\n",
      "flatten_1 (Flatten)             (None, 160)          0           max_pooling2d_1[0][0]            \n",
      "__________________________________________________________________________________________________\n",
      "dense_1 (Dense)                 (None, 100)          16100       flatten_1[0][0]                  \n",
      "__________________________________________________________________________________________________\n",
      "dense_2 (Dense)                 (None, 23)           2323        dense_1[0][0]                    \n",
      "__________________________________________________________________________________________________\n",
      "dropout_1 (Dropout)             (None, 23)           0           dense_2[0][0]                    \n",
      "__________________________________________________________________________________________________\n",
      "main_output (Dense)             (None, 1)            24          dropout_1[0][0]                  \n",
      "==================================================================================================\n",
      "Total params: 19,087\n",
      "Trainable params: 19,007\n",
      "Non-trainable params: 80\n",
      "__________________________________________________________________________________________________\n"
     ]
    }
   ],
   "source": [
    "# load YAML and create model\n",
    "yaml_file = open('./CNN_std_model_other/model_cnn_v1.yaml', 'r')\n",
    "loaded_model_yaml = yaml_file.read()\n",
    "yaml_file.close()\n",
    "loaded_model = model_from_yaml(loaded_model_yaml)\n",
    "# load weights into new model\n",
    "loaded_model.load_weights(\"./CNN_std_model_other/model_cnn_v1.h5\")\n",
    "print(\"Loaded model from disk\")\n",
    "loaded_model.summary()"
   ]
  },
  {
   "cell_type": "code",
   "execution_count": 29,
   "metadata": {},
   "outputs": [],
   "source": [
    "\n",
    "# Now, that its sequential, we can perform usual operations.\n",
    "loaded_model.layers.pop()\n",
    "\n",
    "#selecting which layers to freeze to be untrainable \n",
    "for layer in loaded_model.layers[:8]:\n",
    "    layer.trainable = False\n",
    "    "
   ]
  },
  {
   "cell_type": "code",
   "execution_count": null,
   "metadata": {},
   "outputs": [],
   "source": [
    "#selecting which layers to freeze to be untrainable \n",
    "for layer in loaded_model.layers[:8]:\n",
    "    layer.trainable = False\n",
    "    "
   ]
  },
  {
   "cell_type": "code",
   "execution_count": 31,
   "metadata": {},
   "outputs": [
    {
     "ename": "NameError",
     "evalue": "name 'load_model' is not defined",
     "output_type": "error",
     "traceback": [
      "\u001b[0;31m---------------------------------------------------------------------------\u001b[0m",
      "\u001b[0;31mNameError\u001b[0m                                 Traceback (most recent call last)",
      "\u001b[0;32m<ipython-input-31-68fab4dba012>\u001b[0m in \u001b[0;36m<module>\u001b[0;34m\u001b[0m\n\u001b[0;32m----> 1\u001b[0;31m \u001b[0mprev_model\u001b[0m \u001b[0;34m=\u001b[0m \u001b[0mload_model\u001b[0m\u001b[0;34m(\u001b[0m\u001b[0;34m'./CNN_std_model_other/model_cnn_v1.h5'\u001b[0m\u001b[0;34m)\u001b[0m \u001b[0;31m# loading the previously saved model.\u001b[0m\u001b[0;34m\u001b[0m\u001b[0;34m\u001b[0m\u001b[0m\n\u001b[0m\u001b[1;32m      2\u001b[0m \u001b[0;34m\u001b[0m\u001b[0m\n\u001b[1;32m      3\u001b[0m \u001b[0;31m#new_model = Sequential()\u001b[0m\u001b[0;34m\u001b[0m\u001b[0;34m\u001b[0m\u001b[0;34m\u001b[0m\u001b[0m\n\u001b[1;32m      4\u001b[0m \u001b[0;31m#new_model.add(prev_model)\u001b[0m\u001b[0;34m\u001b[0m\u001b[0;34m\u001b[0m\u001b[0;34m\u001b[0m\u001b[0m\n\u001b[1;32m      5\u001b[0m \u001b[0;31m#new_model.add(Dense(256,activation='relu'))\u001b[0m\u001b[0;34m\u001b[0m\u001b[0;34m\u001b[0m\u001b[0;34m\u001b[0m\u001b[0m\n",
      "\u001b[0;31mNameError\u001b[0m: name 'load_model' is not defined"
     ]
    }
   ],
   "source": [
    "prev_model = load_model('./CNN_std_model_other/model_cnn_v1.h5') # loading the previously saved model.\n",
    "\n",
    "#new_model = Sequential()\n",
    "#new_model.add(prev_model)\n",
    "#new_model.add(Dense(256,activation='relu'))\n",
    "#new_model.add(Dropout(0.5))\n",
    "#new_model.add(Dense(1,activation='sigmoid'))"
   ]
  },
  {
   "cell_type": "code",
   "execution_count": 30,
   "metadata": {},
   "outputs": [
    {
     "ename": "AttributeError",
     "evalue": "'Model' object has no attribute 'add'",
     "output_type": "error",
     "traceback": [
      "\u001b[0;31m---------------------------------------------------------------------------\u001b[0m",
      "\u001b[0;31mAttributeError\u001b[0m                            Traceback (most recent call last)",
      "\u001b[0;32m<ipython-input-30-9e160eeeb46d>\u001b[0m in \u001b[0;36m<module>\u001b[0;34m\u001b[0m\n\u001b[1;32m      1\u001b[0m \u001b[0;34m\u001b[0m\u001b[0m\n\u001b[1;32m      2\u001b[0m \u001b[0;31m# Add 'softmax' instead of earlier 'prediction' layer.\u001b[0m\u001b[0;34m\u001b[0m\u001b[0;34m\u001b[0m\u001b[0;34m\u001b[0m\u001b[0m\n\u001b[0;32m----> 3\u001b[0;31m \u001b[0mloaded_model\u001b[0m\u001b[0;34m.\u001b[0m\u001b[0madd\u001b[0m\u001b[0;34m(\u001b[0m\u001b[0mDense\u001b[0m\u001b[0;34m(\u001b[0m\u001b[0;36m2\u001b[0m\u001b[0;34m,\u001b[0m \u001b[0mactivation\u001b[0m\u001b[0;34m=\u001b[0m\u001b[0;34m'softmax'\u001b[0m\u001b[0;34m)\u001b[0m\u001b[0;34m)\u001b[0m\u001b[0;34m\u001b[0m\u001b[0;34m\u001b[0m\u001b[0m\n\u001b[0m\u001b[1;32m      4\u001b[0m \u001b[0;34m\u001b[0m\u001b[0m\n\u001b[1;32m      5\u001b[0m \u001b[0;34m\u001b[0m\u001b[0m\n",
      "\u001b[0;31mAttributeError\u001b[0m: 'Model' object has no attribute 'add'"
     ]
    }
   ],
   "source": [
    "\n",
    "# Add 'softmax' instead of earlier 'prediction' layer.\n",
    "loaded_model.add(Dense(2, activation='softmax'))\n",
    "\n",
    "\n",
    "# Check the summary, and yes new layer has been added. \n",
    "loaded_model.summary()"
   ]
  },
  {
   "cell_type": "code",
   "execution_count": 21,
   "metadata": {},
   "outputs": [
    {
     "name": "stdout",
     "output_type": "stream",
     "text": [
      "<keras.engine.input_layer.InputLayer object at 0x1a43390d30>\n",
      "<keras.layers.convolutional.Conv2D object at 0x1a43390fd0>\n",
      "<keras.layers.convolutional.Conv2D object at 0x1a433fe978>\n",
      "<keras.layers.convolutional.Conv2D object at 0x1a43439160>\n",
      "<keras.layers.convolutional.Conv2D object at 0x1a43439240>\n",
      "<keras.layers.merge.Concatenate object at 0x1a43439320>\n",
      "<keras.layers.normalization.BatchNormalization object at 0x1a43439518>\n",
      "<keras.layers.pooling.MaxPooling2D object at 0x1a43439438>\n",
      "<keras.layers.core.Flatten object at 0x1a434394e0>\n",
      "<keras.layers.core.Dense object at 0x1a434395c0>\n",
      "<keras.layers.core.Dense object at 0x1a434393c8>\n",
      "<keras.layers.core.Dropout object at 0x1a434397b8>\n",
      "<keras.layers.core.Dense object at 0x1a43439a90>\n"
     ]
    }
   ],
   "source": [
    "# Convert it to Sequential \n",
    "model = Sequential()\n",
    "for layer in loaded_model.layers:\n",
    "   #model.add(layer)\n",
    "    print(layer)"
   ]
  },
  {
   "cell_type": "code",
   "execution_count": 19,
   "metadata": {},
   "outputs": [
    {
     "name": "stdout",
     "output_type": "stream",
     "text": [
      "Loaded model from disk\n",
      "_________________________________________________________________\n",
      "Layer (type)                 Output Shape              Param #   \n",
      "=================================================================\n",
      "dense_67 (Dense)             (None, 12)                2196      \n",
      "_________________________________________________________________\n",
      "dropout_45 (Dropout)         (None, 12)                0         \n",
      "_________________________________________________________________\n",
      "dense_68 (Dense)             (None, 8)                 104       \n",
      "_________________________________________________________________\n",
      "batch_normalization_35 (Batc (None, 8)                 32        \n",
      "_________________________________________________________________\n",
      "dropout_46 (Dropout)         (None, 8)                 0         \n",
      "_________________________________________________________________\n",
      "dense_69 (Dense)             (None, 2)                 18        \n",
      "=================================================================\n",
      "Total params: 2,350\n",
      "Trainable params: 2,334\n",
      "Non-trainable params: 16\n",
      "_________________________________________________________________\n"
     ]
    }
   ],
   "source": [
    "from keras.models import model_from_yaml\n",
    "from keras.models import load_model\n",
    "# load json and create model\n",
    "json_file = open('model_nn_8.json', 'r')\n",
    "loaded_model_json = json_file.read()\n",
    "json_file.close()\n",
    "loaded_model = model_from_json(loaded_model_json)\n",
    "# load weights into new model\n",
    "loaded_model.load_weights(\"model_nn_8.h5\")\n",
    "print(\"Loaded model from disk\")\n",
    "# summarize model.\n",
    "loaded_model.summary()"
   ]
  },
  {
   "cell_type": "code",
   "execution_count": 35,
   "metadata": {},
   "outputs": [
    {
     "name": "stdout",
     "output_type": "stream",
     "text": [
      "              precision    recall  f1-score   support\n",
      "\n",
      "           0       0.99      0.62      0.76      4623\n",
      "           1       0.01      0.37      0.02        57\n",
      "\n",
      "   micro avg       0.62      0.62      0.62      4680\n",
      "   macro avg       0.50      0.50      0.39      4680\n",
      "weighted avg       0.98      0.62      0.76      4680\n",
      "\n",
      "AUC: 0.504\n"
     ]
    }
   ],
   "source": [
    "from matplotlib import pyplot\n",
    "\n",
    "y_pred = loaded_model.predict_classes(X_test)\n",
    "print(classification_report(y_test, y_pred))\n",
    "\n",
    "# predict probabilities\n",
    "probs = loaded_model.predict_proba(X_test)\n",
    "# keep probabilities for the positive outcome only\n",
    "probs = probs[:, 1]\n",
    "# calculate AUC\n",
    "auc = roc_auc_score(y_test, probs)\n",
    "print('AUC: %.3f' % auc)\n",
    "# calculate roc curve\n",
    "fpr, tpr, thresholds = roc_curve(y_test, probs)\n"
   ]
  },
  {
   "cell_type": "code",
   "execution_count": 37,
   "metadata": {},
   "outputs": [
    {
     "name": "stdout",
     "output_type": "stream",
     "text": [
      "acc: 62.01%\n"
     ]
    },
    {
     "name": "stderr",
     "output_type": "stream",
     "text": [
      "/anaconda3/lib/python3.7/site-packages/theano/tensor/subtensor.py:2339: FutureWarning: Using a non-tuple sequence for multidimensional indexing is deprecated; use `arr[tuple(seq)]` instead of `arr[seq]`. In the future this will be interpreted as an array index, `arr[np.array(seq)]`, which will result either in an error or a different result.\n",
      "  out[0][inputs[2:]] = inputs[1]\n"
     ]
    }
   ],
   "source": [
    "# evaluate loaded model on test data\n",
    "loaded_model.compile(loss='sparse_categorical_crossentropy', optimizer='adam', metrics=['accuracy'])\n",
    "score = loaded_model.evaluate(X_test, y_test, verbose=0)\n",
    "print(\"%s: %.2f%%\" % (loaded_model.metrics_names[1], score[1]*100))\n",
    "\n"
   ]
  },
  {
   "cell_type": "code",
   "execution_count": 47,
   "metadata": {},
   "outputs": [
    {
     "name": "stdout",
     "output_type": "stream",
     "text": [
      "Train on 29548 samples, validate on 7388 samples\n",
      "Epoch 1/30\n",
      " 9420/29548 [========>.....................] - ETA: 0s - loss: 0.7151 - acc: 0.5671"
     ]
    },
    {
     "name": "stderr",
     "output_type": "stream",
     "text": [
      "/anaconda3/lib/python3.7/site-packages/theano/tensor/subtensor.py:2339: FutureWarning: Using a non-tuple sequence for multidimensional indexing is deprecated; use `arr[tuple(seq)]` instead of `arr[seq]`. In the future this will be interpreted as an array index, `arr[np.array(seq)]`, which will result either in an error or a different result.\n",
      "  out[0][inputs[2:]] = inputs[1]\n"
     ]
    },
    {
     "name": "stdout",
     "output_type": "stream",
     "text": [
      "29548/29548 [==============================] - 1s 18us/step - loss: 0.6675 - acc: 0.6066 - val_loss: 0.9612 - val_acc: 0.0000e+00\n",
      "Epoch 2/30\n",
      "29548/29548 [==============================] - 1s 18us/step - loss: 0.6165 - acc: 0.6366 - val_loss: 0.7551 - val_acc: 0.4484\n",
      "Epoch 3/30\n",
      "29548/29548 [==============================] - 1s 18us/step - loss: 0.5887 - acc: 0.6588 - val_loss: 0.7643 - val_acc: 0.4900\n",
      "Epoch 4/30\n",
      "29548/29548 [==============================] - 1s 20us/step - loss: 0.5781 - acc: 0.6710 - val_loss: 0.7333 - val_acc: 0.5387\n",
      "Epoch 5/30\n",
      "29548/29548 [==============================] - 1s 20us/step - loss: 0.5741 - acc: 0.6762 - val_loss: 0.8164 - val_acc: 0.3523\n",
      "Epoch 6/30\n",
      "29548/29548 [==============================] - 1s 19us/step - loss: 0.5690 - acc: 0.6830 - val_loss: 0.7792 - val_acc: 0.4593\n",
      "Epoch 7/30\n",
      "29548/29548 [==============================] - 1s 19us/step - loss: 0.5636 - acc: 0.6877 - val_loss: 0.7225 - val_acc: 0.5606\n",
      "Epoch 8/30\n",
      "29548/29548 [==============================] - 1s 19us/step - loss: 0.5597 - acc: 0.6978 - val_loss: 0.7356 - val_acc: 0.5347\n",
      "Epoch 9/30\n",
      "29548/29548 [==============================] - 1s 20us/step - loss: 0.5555 - acc: 0.7017 - val_loss: 0.7271 - val_acc: 0.5543\n",
      "Epoch 10/30\n",
      "29548/29548 [==============================] - 1s 19us/step - loss: 0.5545 - acc: 0.6994 - val_loss: 0.6561 - val_acc: 0.6153\n",
      "Epoch 11/30\n",
      "29548/29548 [==============================] - 1s 21us/step - loss: 0.5493 - acc: 0.7061 - val_loss: 0.7468 - val_acc: 0.5403\n",
      "Epoch 12/30\n",
      "29548/29548 [==============================] - 1s 22us/step - loss: 0.5517 - acc: 0.7034 - val_loss: 0.7130 - val_acc: 0.5700\n",
      "Epoch 13/30\n",
      "29548/29548 [==============================] - 1s 20us/step - loss: 0.5475 - acc: 0.7072 - val_loss: 0.6604 - val_acc: 0.6080\n",
      "Epoch 14/30\n",
      "29548/29548 [==============================] - 1s 20us/step - loss: 0.5498 - acc: 0.7055 - val_loss: 0.7368 - val_acc: 0.5598\n",
      "Epoch 15/30\n",
      "29548/29548 [==============================] - 1s 21us/step - loss: 0.5468 - acc: 0.7065 - val_loss: 0.6418 - val_acc: 0.6245\n",
      "Epoch 16/30\n",
      "29548/29548 [==============================] - 1s 20us/step - loss: 0.5440 - acc: 0.7118 - val_loss: 0.7036 - val_acc: 0.5517\n",
      "Epoch 17/30\n",
      "29548/29548 [==============================] - 1s 23us/step - loss: 0.5422 - acc: 0.7130 - val_loss: 0.6861 - val_acc: 0.5600\n",
      "Epoch 18/30\n",
      "29548/29548 [==============================] - 1s 22us/step - loss: 0.5451 - acc: 0.7108 - val_loss: 0.6509 - val_acc: 0.6155\n",
      "Epoch 19/30\n",
      "29548/29548 [==============================] - 1s 23us/step - loss: 0.5422 - acc: 0.7146 - val_loss: 0.6593 - val_acc: 0.6107\n",
      "Epoch 20/30\n",
      "29548/29548 [==============================] - 1s 22us/step - loss: 0.5426 - acc: 0.7123 - val_loss: 0.6824 - val_acc: 0.5781\n",
      "Epoch 21/30\n",
      "29548/29548 [==============================] - 1s 25us/step - loss: 0.5413 - acc: 0.7134 - val_loss: 0.6740 - val_acc: 0.6122\n",
      "Epoch 22/30\n",
      "29548/29548 [==============================] - 1s 23us/step - loss: 0.5435 - acc: 0.7097 - val_loss: 0.6625 - val_acc: 0.6414\n",
      "Epoch 23/30\n",
      "29548/29548 [==============================] - 1s 22us/step - loss: 0.5386 - acc: 0.7171 - val_loss: 0.5991 - val_acc: 0.6963\n",
      "Epoch 24/30\n",
      "29548/29548 [==============================] - 1s 22us/step - loss: 0.5402 - acc: 0.7172 - val_loss: 0.6641 - val_acc: 0.6379\n",
      "Epoch 25/30\n",
      "29548/29548 [==============================] - 1s 22us/step - loss: 0.5366 - acc: 0.7189 - val_loss: 0.6659 - val_acc: 0.6263\n",
      "Epoch 26/30\n",
      "29548/29548 [==============================] - 1s 24us/step - loss: 0.5350 - acc: 0.7193 - val_loss: 0.6571 - val_acc: 0.6439\n",
      "Epoch 27/30\n",
      "29548/29548 [==============================] - 1s 25us/step - loss: 0.5402 - acc: 0.7156 - val_loss: 0.6706 - val_acc: 0.6280\n",
      "Epoch 28/30\n",
      "29548/29548 [==============================] - 1s 23us/step - loss: 0.5375 - acc: 0.7163 - val_loss: 0.6982 - val_acc: 0.5799\n",
      "Epoch 29/30\n",
      "29548/29548 [==============================] - 1s 22us/step - loss: 0.5398 - acc: 0.7160 - val_loss: 0.6573 - val_acc: 0.5964\n",
      "Epoch 30/30\n",
      "29548/29548 [==============================] - 1s 22us/step - loss: 0.5380 - acc: 0.7177 - val_loss: 0.6306 - val_acc: 0.6344\n"
     ]
    }
   ],
   "source": [
    "# Fit the model using weights -- in order to get the loss graphs can do other analysis\n",
    "history = model.fit(X_train_res, y_train_res, epochs=30, batch_size=60, validation_split=0.2, shuffle= True)"
   ]
  },
  {
   "cell_type": "code",
   "execution_count": 48,
   "metadata": {},
   "outputs": [
    {
     "name": "stdout",
     "output_type": "stream",
     "text": [
      "              precision    recall  f1-score   support\n",
      "\n",
      "           0       0.99      0.62      0.76      4623\n",
      "           1       0.01      0.37      0.02        57\n",
      "\n",
      "   micro avg       0.62      0.62      0.62      4680\n",
      "   macro avg       0.50      0.50      0.39      4680\n",
      "weighted avg       0.98      0.62      0.76      4680\n",
      "\n"
     ]
    }
   ],
   "source": [
    "y_pred = loaded_model.predict_classes(X_test)\n",
    "print(classification_report(y_test, y_pred))"
   ]
  },
  {
   "cell_type": "code",
   "execution_count": 115,
   "metadata": {},
   "outputs": [
    {
     "data": {
      "image/png": "[encoded data removed]",
      "text/plain": [
       "<Figure size 576x360 with 1 Axes>"
      ]
     },
     "metadata": {
      "needs_background": "light"
     },
     "output_type": "display_data"
    }
   ],
   "source": [
    "plt.figure(figsize=(8,5))\n",
    "loss = history.history['loss']\n",
    "val_loss = history.history['val_loss']\n",
    "epochs = range(1, len(loss) + 1)\n",
    "plt.plot(epochs, loss, color='red', label='Training Loss')\n",
    "plt.plot(epochs, val_loss, color='blue', label='Testing Loss')\n",
    "\n",
    "plt.figtext(.5,.99,'Training and Testing Loss', fontsize=20, ha='center')\n",
    "#plt.title('Training and Testing Loss')\n",
    "plt.xlabel('Epochs', fontsize = 15)\n",
    "plt.ylabel('Loss', fontsize = 15)\n",
    "plt.legend(fontsize= 15)\n",
    "plt.tight_layout()\n",
    "plt.show()"
   ]
  },
  {
   "cell_type": "code",
   "execution_count": 128,
   "metadata": {},
   "outputs": [
    {
     "data": {
      "image/png": "[encoded data removed]",
      "text/plain": [
       "<Figure size 576x360 with 1 Axes>"
      ]
     },
     "metadata": {
      "needs_background": "light"
     },
     "output_type": "display_data"
    }
   ],
   "source": [
    "plt.figure(figsize=(8,5))\n",
    "acc = history.history['acc']\n",
    "val_acc = history.history['val_acc']\n",
    "plt.plot(epochs, acc, color='red', label='Training Accuray')\n",
    "plt.plot(epochs, val_acc, color='blue', label='Testing Accuray')\n",
    "#plt.title('Training and Testing Accuray')\n",
    "\n",
    "plt.figtext(.5,.99,'Training and Testing Accuray', fontsize=20, ha='center')\n",
    "plt.xlabel('Epochs', fontsize = 15)\n",
    "plt.ylabel('Loss', fontsize = 15)\n",
    "plt.legend(fontsize= 15)\n",
    "plt.tight_layout()\n",
    "plt.show()"
   ]
  },
  {
   "cell_type": "code",
   "execution_count": null,
   "metadata": {},
   "outputs": [],
   "source": []
  }
 ],
 "metadata": {
  "kernelspec": {
   "display_name": "Python 3",
   "language": "python",
   "name": "python3"
  },
  "language_info": {
   "codemirror_mode": {
    "name": "ipython",
    "version": 3
   },
   "file_extension": ".py",
   "mimetype": "text/x-python",
   "name": "python",
   "nbconvert_exporter": "python",
   "pygments_lexer": "ipython3",
   "version": "3.7.3"
  }
 },
 "nbformat": 4,
 "nbformat_minor": 2
}
