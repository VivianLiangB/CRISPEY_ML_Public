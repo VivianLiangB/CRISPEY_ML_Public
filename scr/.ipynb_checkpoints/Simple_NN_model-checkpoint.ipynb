{
 "cells": [
  {
   "cell_type": "code",
   "execution_count": 162,
   "metadata": {},
   "outputs": [],
   "source": [
    "import pandas as pd\n",
    "import numpy as np \n",
    "import random\n",
    "from sklearn import metrics\n",
    "from sklearn.metrics import mean_squared_error, r2_score, accuracy_score, confusion_matrix, precision_recall_curve, auc, roc_auc_score, roc_curve, recall_score, classification_report\n",
    "from sklearn import preprocessing\n",
    "from sklearn.model_selection import train_test_split\n",
    "from sklearn import metrics\n",
    "from collections import OrderedDict\n",
    "from imblearn.over_sampling import SMOTE\n",
    "from sklearn.model_selection import GridSearchCV\n",
    "from sklearn.preprocessing import StandardScaler\n",
    "from sklearn.model_selection import learning_curve\n",
    "from sklearn.svm import LinearSVC\n",
    "from sklearn.calibration import calibration_curve\n",
    "from keras.utils import np_utils\n",
    "from keras.utils.vis_utils import plot_model\n",
    "from keras.models import Sequential\n",
    "from keras.layers import Dense, Dropout\n",
    "#plotting related things \n",
    "import matplotlib.pyplot as plt\n",
    "import seaborn as sns\n",
    "from keras.layers.normalization import BatchNormalization\n",
    "from sklearn.metrics import confusion_matrix,  classification_report,  roc_curve, roc_auc_score\n",
    "plt.rc(\"font\", size=14)\n",
    "sns.set(style=\"white\")\n",
    "sns.set(style=\"whitegrid\", color_codes=True)\n",
    "%matplotlib inline"
   ]
  },
  {
   "cell_type": "code",
   "execution_count": 66,
   "metadata": {},
   "outputs": [],
   "source": [
    "# fix random seed for reproducibility\n",
    "np.random.seed(7)"
   ]
  },
  {
   "cell_type": "code",
   "execution_count": 67,
   "metadata": {},
   "outputs": [
    {
     "name": "stdout",
     "output_type": "stream",
     "text": [
      "shapes for alt seq, post guide,  ref: (23397, 81) (23397, 20) (23397, 81)\n",
      "RM stack shape (23397, 182)\n",
      "y label shape (23397,)\n"
     ]
    }
   ],
   "source": [
    "'''\n",
    "Load arrays for preping DF: \n",
    "\n",
    "For structure of npz:\n",
    "arr one is DNA seq, arr two is label encoding, arr three is one hot \n",
    "\n",
    "Afterwards combine both 1 hot encoding\n",
    "'''\n",
    "RM_alt_seq = np.load('RM_alt_seq_Complete_V3.npz')\n",
    "RM_pos_guide = np.load('RM_pos_guide_Complete_V3.npz')\n",
    "RM_ref_seq = np.load('RM_ref_seq_Complete_V3.npz')\n",
    "\n",
    "RM_alt_seq_onehot =   RM_alt_seq['arr_2']\n",
    "RM_pos_guide_onehot = RM_pos_guide['arr_2']\n",
    "RM_ref_seq_onehot = RM_ref_seq['arr_2']\n",
    "\n",
    "print('shapes for alt seq, post guide,  ref:',\n",
    "      RM_alt_seq_onehot.shape, RM_pos_guide_onehot.shape, RM_ref_seq_onehot.shape)\n",
    "\n",
    "#stack arrays via cols\n",
    "RM_stacks = np.column_stack((RM_alt_seq_onehot, RM_pos_guide_onehot,\n",
    "                             RM_ref_seq_onehot))\n",
    "\n",
    "Y_labels= np.load('RM_var_DF_V3.npy')\n",
    "print('RM stack shape', RM_stacks.shape)\n",
    "print('y label shape', Y_labels.shape)"
   ]
  },
  {
   "cell_type": "code",
   "execution_count": 68,
   "metadata": {},
   "outputs": [
    {
     "name": "stdout",
     "output_type": "stream",
     "text": [
      "Shape of  X_train dataset:  (18717, 182)\n",
      "Shape of  y_train dataset:  (18717,)\n",
      "Shape of  X_test dataset:  (4680, 182)\n",
      "Shape of  y_test dataset:  (4680,)\n",
      " train counts of label '1': {} 249\n",
      "train counts of label '0': {} 18468\n",
      " test counts of label '1': {} 57\n",
      "test counts of label '0': {} 4623\n"
     ]
    }
   ],
   "source": [
    "# 3. Split the data & targets into training/testing sets\n",
    "X_train, X_test, y_train, y_test = train_test_split(RM_stacks, Y_labels,\n",
    "                                                    test_size=0.2, random_state=0)\n",
    "\n",
    "print(\"Shape of  X_train dataset: \", X_train.shape)\n",
    "print(\"Shape of  y_train dataset: \", y_train.shape)\n",
    "print(\"Shape of  X_test dataset: \", X_test.shape)\n",
    "print(\"Shape of  y_test dataset: \", y_test.shape)\n",
    "\n",
    "print(\" train counts of label '1': {}\", (sum(y_train==1)))\n",
    "print(\"train counts of label '0': {}\", (sum(y_train==0)))\n",
    "\n",
    "print(\" test counts of label '1': {}\", (sum(y_test==1)))\n",
    "print(\"test counts of label '0': {}\", (sum(y_test==0)))"
   ]
  },
  {
   "cell_type": "markdown",
   "metadata": {},
   "source": [
    "# SMOTE\n"
   ]
  },
  {
   "cell_type": "code",
   "execution_count": 69,
   "metadata": {},
   "outputs": [
    {
     "name": "stdout",
     "output_type": "stream",
     "text": [
      "Before OverSampling, counts of label '1': {} 249\n",
      "Before OverSampling, counts of label '0': {} 18468\n",
      "After OverSampling, the shape of train_X: (36936, 182)\n",
      "After OverSampling, the shape of train_y: (36936,) \n",
      "\n",
      "After OverSampling, counts of label '1': {} 18468\n",
      "After OverSampling, counts of label '0': {} 18468\n"
     ]
    }
   ],
   "source": [
    "print(\"Before OverSampling, counts of label '1': {}\", (sum(y_train==1)))\n",
    "print(\"Before OverSampling, counts of label '0': {}\", (sum(y_train==0)))\n",
    "\n",
    "sm = SMOTE(random_state=2)\n",
    "X_train_res, y_train_res = sm.fit_sample(X_train, y_train.ravel())\n",
    "\n",
    "print('After OverSampling, the shape of train_X: {}'.format(X_train_res.shape))\n",
    "print('After OverSampling, the shape of train_y: {} \\n'.format(y_train_res.shape))\n",
    "\n",
    "print(\"After OverSampling, counts of label '1': {}\", (sum(y_train_res==1)))\n",
    "print(\"After OverSampling, counts of label '0': {}\",(sum(y_train_res==0)))\n"
   ]
  },
  {
   "cell_type": "code",
   "execution_count": 70,
   "metadata": {},
   "outputs": [
    {
     "name": "stdout",
     "output_type": "stream",
     "text": [
      "reshape for input dims for NN\n",
      "old shape\n",
      "new, transformed shape:\n"
     ]
    }
   ],
   "source": [
    "print(\"reshape for input dims for NN\")\n",
    "\n",
    "print(\"old shape\")\n",
    "print(\"new, transformed shape:\")"
   ]
  },
  {
   "cell_type": "markdown",
   "metadata": {},
   "source": [
    "\n",
    "# NN Model"
   ]
  },
  {
   "cell_type": "code",
   "execution_count": 165,
   "metadata": {
    "scrolled": false
   },
   "outputs": [
    {
     "ename": "UnboundLocalError",
     "evalue": "local variable 'a' referenced before assignment",
     "output_type": "error",
     "traceback": [
      "\u001b[0;31m---------------------------------------------------------------------------\u001b[0m",
      "\u001b[0;31mUnboundLocalError\u001b[0m                         Traceback (most recent call last)",
      "\u001b[0;32m<ipython-input-165-ee909a8d8c1c>\u001b[0m in \u001b[0;36m<module>\u001b[0;34m\u001b[0m\n\u001b[1;32m      2\u001b[0m \u001b[0mmodel\u001b[0m\u001b[0;34m.\u001b[0m\u001b[0madd\u001b[0m\u001b[0;34m(\u001b[0m\u001b[0mDense\u001b[0m\u001b[0;34m(\u001b[0m\u001b[0;36m12\u001b[0m\u001b[0;34m,\u001b[0m \u001b[0minput_dim\u001b[0m\u001b[0;34m=\u001b[0m\u001b[0;34m(\u001b[0m\u001b[0;36m182\u001b[0m\u001b[0;34m)\u001b[0m\u001b[0;34m,\u001b[0m \u001b[0mactivation\u001b[0m\u001b[0;34m=\u001b[0m\u001b[0;34m'relu'\u001b[0m\u001b[0;34m)\u001b[0m\u001b[0;34m)\u001b[0m\u001b[0;34m\u001b[0m\u001b[0;34m\u001b[0m\u001b[0m\n\u001b[1;32m      3\u001b[0m \u001b[0mmodel\u001b[0m\u001b[0;34m.\u001b[0m\u001b[0madd\u001b[0m\u001b[0;34m(\u001b[0m\u001b[0mDense\u001b[0m\u001b[0;34m(\u001b[0m\u001b[0;36m8\u001b[0m\u001b[0;34m,\u001b[0m \u001b[0mactivation\u001b[0m\u001b[0;34m=\u001b[0m\u001b[0;34m'relu'\u001b[0m\u001b[0;34m)\u001b[0m\u001b[0;34m)\u001b[0m\u001b[0;34m\u001b[0m\u001b[0;34m\u001b[0m\u001b[0m\n\u001b[0;32m----> 4\u001b[0;31m \u001b[0mmodel\u001b[0m\u001b[0;34m.\u001b[0m\u001b[0madd\u001b[0m\u001b[0;34m(\u001b[0m\u001b[0mBatchNormalization\u001b[0m\u001b[0;34m(\u001b[0m\u001b[0;34m)\u001b[0m\u001b[0;34m)\u001b[0m\u001b[0;34m\u001b[0m\u001b[0;34m\u001b[0m\u001b[0m\n\u001b[0m\u001b[1;32m      5\u001b[0m \u001b[0mmodel\u001b[0m\u001b[0;34m.\u001b[0m\u001b[0madd\u001b[0m\u001b[0;34m(\u001b[0m\u001b[0mDropout\u001b[0m\u001b[0;34m(\u001b[0m\u001b[0;36m0.25\u001b[0m\u001b[0;34m)\u001b[0m\u001b[0;34m)\u001b[0m\u001b[0;34m\u001b[0m\u001b[0;34m\u001b[0m\u001b[0m\n\u001b[1;32m      6\u001b[0m \u001b[0mmodel\u001b[0m\u001b[0;34m.\u001b[0m\u001b[0madd\u001b[0m\u001b[0;34m(\u001b[0m\u001b[0mDense\u001b[0m\u001b[0;34m(\u001b[0m\u001b[0;36m2\u001b[0m\u001b[0;34m,\u001b[0m \u001b[0mactivation\u001b[0m\u001b[0;34m=\u001b[0m\u001b[0;34m'softmax'\u001b[0m\u001b[0;34m)\u001b[0m\u001b[0;34m)\u001b[0m\u001b[0;34m\u001b[0m\u001b[0;34m\u001b[0m\u001b[0m\n",
      "\u001b[0;32m/anaconda3/lib/python3.7/site-packages/keras/engine/sequential.py\u001b[0m in \u001b[0;36madd\u001b[0;34m(self, layer)\u001b[0m\n\u001b[1;32m    179\u001b[0m                 \u001b[0mself\u001b[0m\u001b[0;34m.\u001b[0m\u001b[0minputs\u001b[0m \u001b[0;34m=\u001b[0m \u001b[0mnetwork\u001b[0m\u001b[0;34m.\u001b[0m\u001b[0mget_source_inputs\u001b[0m\u001b[0;34m(\u001b[0m\u001b[0mself\u001b[0m\u001b[0;34m.\u001b[0m\u001b[0moutputs\u001b[0m\u001b[0;34m[\u001b[0m\u001b[0;36m0\u001b[0m\u001b[0;34m]\u001b[0m\u001b[0;34m)\u001b[0m\u001b[0;34m\u001b[0m\u001b[0;34m\u001b[0m\u001b[0m\n\u001b[1;32m    180\u001b[0m         \u001b[0;32melif\u001b[0m \u001b[0mself\u001b[0m\u001b[0;34m.\u001b[0m\u001b[0moutputs\u001b[0m\u001b[0;34m:\u001b[0m\u001b[0;34m\u001b[0m\u001b[0;34m\u001b[0m\u001b[0m\n\u001b[0;32m--> 181\u001b[0;31m             \u001b[0moutput_tensor\u001b[0m \u001b[0;34m=\u001b[0m \u001b[0mlayer\u001b[0m\u001b[0;34m(\u001b[0m\u001b[0mself\u001b[0m\u001b[0;34m.\u001b[0m\u001b[0moutputs\u001b[0m\u001b[0;34m[\u001b[0m\u001b[0;36m0\u001b[0m\u001b[0;34m]\u001b[0m\u001b[0;34m)\u001b[0m\u001b[0;34m\u001b[0m\u001b[0;34m\u001b[0m\u001b[0m\n\u001b[0m\u001b[1;32m    182\u001b[0m             \u001b[0;32mif\u001b[0m \u001b[0misinstance\u001b[0m\u001b[0;34m(\u001b[0m\u001b[0moutput_tensor\u001b[0m\u001b[0;34m,\u001b[0m \u001b[0mlist\u001b[0m\u001b[0;34m)\u001b[0m\u001b[0;34m:\u001b[0m\u001b[0;34m\u001b[0m\u001b[0;34m\u001b[0m\u001b[0m\n\u001b[1;32m    183\u001b[0m                 raise TypeError('All layers in a Sequential model '\n",
      "\u001b[0;32m/anaconda3/lib/python3.7/site-packages/keras/engine/base_layer.py\u001b[0m in \u001b[0;36m__call__\u001b[0;34m(self, inputs, **kwargs)\u001b[0m\n\u001b[1;32m    455\u001b[0m             \u001b[0;31m# Actually call the layer,\u001b[0m\u001b[0;34m\u001b[0m\u001b[0;34m\u001b[0m\u001b[0;34m\u001b[0m\u001b[0m\n\u001b[1;32m    456\u001b[0m             \u001b[0;31m# collecting output(s), mask(s), and shape(s).\u001b[0m\u001b[0;34m\u001b[0m\u001b[0;34m\u001b[0m\u001b[0;34m\u001b[0m\u001b[0m\n\u001b[0;32m--> 457\u001b[0;31m             \u001b[0moutput\u001b[0m \u001b[0;34m=\u001b[0m \u001b[0mself\u001b[0m\u001b[0;34m.\u001b[0m\u001b[0mcall\u001b[0m\u001b[0;34m(\u001b[0m\u001b[0minputs\u001b[0m\u001b[0;34m,\u001b[0m \u001b[0;34m**\u001b[0m\u001b[0mkwargs\u001b[0m\u001b[0;34m)\u001b[0m\u001b[0;34m\u001b[0m\u001b[0;34m\u001b[0m\u001b[0m\n\u001b[0m\u001b[1;32m    458\u001b[0m             \u001b[0moutput_mask\u001b[0m \u001b[0;34m=\u001b[0m \u001b[0mself\u001b[0m\u001b[0;34m.\u001b[0m\u001b[0mcompute_mask\u001b[0m\u001b[0;34m(\u001b[0m\u001b[0minputs\u001b[0m\u001b[0;34m,\u001b[0m \u001b[0mprevious_mask\u001b[0m\u001b[0;34m)\u001b[0m\u001b[0;34m\u001b[0m\u001b[0;34m\u001b[0m\u001b[0m\n\u001b[1;32m    459\u001b[0m \u001b[0;34m\u001b[0m\u001b[0m\n",
      "\u001b[0;32m/anaconda3/lib/python3.7/site-packages/keras/layers/normalization.py\u001b[0m in \u001b[0;36mcall\u001b[0;34m(self, inputs, training)\u001b[0m\n\u001b[1;32m    204\u001b[0m         return K.in_train_phase(normed_training,\n\u001b[1;32m    205\u001b[0m                                 \u001b[0mnormalize_inference\u001b[0m\u001b[0;34m,\u001b[0m\u001b[0;34m\u001b[0m\u001b[0;34m\u001b[0m\u001b[0m\n\u001b[0;32m--> 206\u001b[0;31m                                 training=training)\n\u001b[0m\u001b[1;32m    207\u001b[0m \u001b[0;34m\u001b[0m\u001b[0m\n\u001b[1;32m    208\u001b[0m     \u001b[0;32mdef\u001b[0m \u001b[0mget_config\u001b[0m\u001b[0;34m(\u001b[0m\u001b[0mself\u001b[0m\u001b[0;34m)\u001b[0m\u001b[0;34m:\u001b[0m\u001b[0;34m\u001b[0m\u001b[0;34m\u001b[0m\u001b[0m\n",
      "\u001b[0;32m/anaconda3/lib/python3.7/site-packages/keras/backend/tensorflow_backend.py\u001b[0m in \u001b[0;36min_train_phase\u001b[0;34m(x, alt, training)\u001b[0m\n\u001b[1;32m   3103\u001b[0m     \"\"\"\n\u001b[1;32m   3104\u001b[0m     \u001b[0;32mif\u001b[0m \u001b[0mtraining\u001b[0m \u001b[0;32mis\u001b[0m \u001b[0;32mNone\u001b[0m\u001b[0;34m:\u001b[0m\u001b[0;34m\u001b[0m\u001b[0;34m\u001b[0m\u001b[0m\n\u001b[0;32m-> 3105\u001b[0;31m         \u001b[0mtraining\u001b[0m \u001b[0;34m=\u001b[0m \u001b[0mlearning_phase\u001b[0m\u001b[0;34m(\u001b[0m\u001b[0;34m)\u001b[0m\u001b[0;34m\u001b[0m\u001b[0;34m\u001b[0m\u001b[0m\n\u001b[0m\u001b[1;32m   3106\u001b[0m         \u001b[0muses_learning_phase\u001b[0m \u001b[0;34m=\u001b[0m \u001b[0;32mTrue\u001b[0m\u001b[0;34m\u001b[0m\u001b[0;34m\u001b[0m\u001b[0m\n\u001b[1;32m   3107\u001b[0m     \u001b[0;32melse\u001b[0m\u001b[0;34m:\u001b[0m\u001b[0;34m\u001b[0m\u001b[0;34m\u001b[0m\u001b[0m\n",
      "\u001b[0;32m/anaconda3/lib/python3.7/site-packages/keras/backend/tensorflow_backend.py\u001b[0m in \u001b[0;36mlearning_phase\u001b[0;34m()\u001b[0m\n\u001b[1;32m    133\u001b[0m         phase = tf.placeholder_with_default(False,\n\u001b[1;32m    134\u001b[0m                                             \u001b[0mshape\u001b[0m\u001b[0;34m=\u001b[0m\u001b[0;34m(\u001b[0m\u001b[0;34m)\u001b[0m\u001b[0;34m,\u001b[0m\u001b[0;34m\u001b[0m\u001b[0;34m\u001b[0m\u001b[0m\n\u001b[0;32m--> 135\u001b[0;31m                                             name='keras_learning_phase')\n\u001b[0m\u001b[1;32m    136\u001b[0m         \u001b[0m_GRAPH_LEARNING_PHASES\u001b[0m\u001b[0;34m[\u001b[0m\u001b[0mgraph\u001b[0m\u001b[0;34m]\u001b[0m \u001b[0;34m=\u001b[0m \u001b[0mphase\u001b[0m\u001b[0;34m\u001b[0m\u001b[0;34m\u001b[0m\u001b[0m\n\u001b[1;32m    137\u001b[0m     \u001b[0;32mreturn\u001b[0m \u001b[0m_GRAPH_LEARNING_PHASES\u001b[0m\u001b[0;34m[\u001b[0m\u001b[0mgraph\u001b[0m\u001b[0;34m]\u001b[0m\u001b[0;34m\u001b[0m\u001b[0;34m\u001b[0m\u001b[0m\n",
      "\u001b[0;32m/anaconda3/lib/python3.7/site-packages/tensorflow/python/ops/array_ops.py\u001b[0m in \u001b[0;36mplaceholder_with_default\u001b[0;34m(input, shape, name)\u001b[0m\n\u001b[1;32m   2091\u001b[0m   \u001b[0;34m**\u001b[0m\u001b[0mImportant\u001b[0m\u001b[0;34m**\u001b[0m\u001b[0;34m:\u001b[0m \u001b[0mThis\u001b[0m \u001b[0mtensor\u001b[0m \u001b[0mwill\u001b[0m \u001b[0mproduce\u001b[0m \u001b[0man\u001b[0m \u001b[0merror\u001b[0m \u001b[0;32mif\u001b[0m \u001b[0mevaluated\u001b[0m\u001b[0;34m.\u001b[0m \u001b[0mIts\u001b[0m \u001b[0mvalue\u001b[0m \u001b[0mmust\u001b[0m\u001b[0;34m\u001b[0m\u001b[0;34m\u001b[0m\u001b[0m\n\u001b[1;32m   2092\u001b[0m   \u001b[0mbe\u001b[0m \u001b[0mfed\u001b[0m \u001b[0musing\u001b[0m \u001b[0mthe\u001b[0m\u001b[0;31m \u001b[0m\u001b[0;31m`\u001b[0m\u001b[0mfeed_dict\u001b[0m\u001b[0;31m`\u001b[0m \u001b[0moptional\u001b[0m \u001b[0margument\u001b[0m \u001b[0mto\u001b[0m\u001b[0;31m \u001b[0m\u001b[0;31m`\u001b[0m\u001b[0mSession\u001b[0m\u001b[0;34m.\u001b[0m\u001b[0mrun\u001b[0m\u001b[0;34m(\u001b[0m\u001b[0;34m)\u001b[0m\u001b[0;31m`\u001b[0m\u001b[0;34m,\u001b[0m\u001b[0;34m\u001b[0m\u001b[0;34m\u001b[0m\u001b[0m\n\u001b[0;32m-> 2093\u001b[0;31m   \u001b[0;31m`\u001b[0m\u001b[0mTensor\u001b[0m\u001b[0;34m.\u001b[0m\u001b[0meval\u001b[0m\u001b[0;34m(\u001b[0m\u001b[0;34m)\u001b[0m\u001b[0;31m`\u001b[0m\u001b[0;34m,\u001b[0m \u001b[0;32mor\u001b[0m\u001b[0;31m \u001b[0m\u001b[0;31m`\u001b[0m\u001b[0mOperation\u001b[0m\u001b[0;34m.\u001b[0m\u001b[0mrun\u001b[0m\u001b[0;34m(\u001b[0m\u001b[0;34m)\u001b[0m\u001b[0;31m`\u001b[0m\u001b[0;34m.\u001b[0m\u001b[0;34m\u001b[0m\u001b[0;34m\u001b[0m\u001b[0m\n\u001b[0m\u001b[1;32m   2094\u001b[0m \u001b[0;34m\u001b[0m\u001b[0m\n\u001b[1;32m   2095\u001b[0m   \u001b[0mFor\u001b[0m \u001b[0mexample\u001b[0m\u001b[0;34m:\u001b[0m\u001b[0;34m\u001b[0m\u001b[0;34m\u001b[0m\u001b[0m\n",
      "\u001b[0;32m/anaconda3/lib/python3.7/site-packages/tensorflow/python/ops/gen_array_ops.py\u001b[0m in \u001b[0;36mplaceholder_with_default\u001b[0;34m(input, shape, name)\u001b[0m\n\u001b[1;32m   5923\u001b[0m   \u001b[0m_attr_N\u001b[0m \u001b[0;34m=\u001b[0m \u001b[0mlen\u001b[0m\u001b[0;34m(\u001b[0m\u001b[0mvalues\u001b[0m\u001b[0;34m)\u001b[0m\u001b[0;34m\u001b[0m\u001b[0;34m\u001b[0m\u001b[0m\n\u001b[1;32m   5924\u001b[0m   \u001b[0;32mif\u001b[0m \u001b[0maxis\u001b[0m \u001b[0;32mis\u001b[0m \u001b[0;32mNone\u001b[0m\u001b[0;34m:\u001b[0m\u001b[0;34m\u001b[0m\u001b[0;34m\u001b[0m\u001b[0m\n\u001b[0;32m-> 5925\u001b[0;31m     \u001b[0maxis\u001b[0m \u001b[0;34m=\u001b[0m \u001b[0;36m0\u001b[0m\u001b[0;34m\u001b[0m\u001b[0;34m\u001b[0m\u001b[0m\n\u001b[0m\u001b[1;32m   5926\u001b[0m   \u001b[0maxis\u001b[0m \u001b[0;34m=\u001b[0m \u001b[0m_execute\u001b[0m\u001b[0;34m.\u001b[0m\u001b[0mmake_int\u001b[0m\u001b[0;34m(\u001b[0m\u001b[0maxis\u001b[0m\u001b[0;34m,\u001b[0m \u001b[0;34m\"axis\"\u001b[0m\u001b[0;34m)\u001b[0m\u001b[0;34m\u001b[0m\u001b[0;34m\u001b[0m\u001b[0m\n\u001b[1;32m   5927\u001b[0m   \u001b[0m_attr_T\u001b[0m\u001b[0;34m,\u001b[0m \u001b[0mvalues\u001b[0m \u001b[0;34m=\u001b[0m \u001b[0m_execute\u001b[0m\u001b[0;34m.\u001b[0m\u001b[0margs_to_matching_eager\u001b[0m\u001b[0;34m(\u001b[0m\u001b[0mlist\u001b[0m\u001b[0;34m(\u001b[0m\u001b[0mvalues\u001b[0m\u001b[0;34m)\u001b[0m\u001b[0;34m,\u001b[0m \u001b[0m_ctx\u001b[0m\u001b[0;34m)\u001b[0m\u001b[0;34m\u001b[0m\u001b[0;34m\u001b[0m\u001b[0m\n",
      "\u001b[0;32m/anaconda3/lib/python3.7/site-packages/tensorflow/python/framework/op_def_library.py\u001b[0m in \u001b[0;36m_apply_op_helper\u001b[0;34m(self, op_type_name, name, **keywords)\u001b[0m\n\u001b[1;32m    509\u001b[0m           \u001b[0mdtype\u001b[0m \u001b[0;34m=\u001b[0m \u001b[0;32mNone\u001b[0m\u001b[0;34m\u001b[0m\u001b[0;34m\u001b[0m\u001b[0m\n\u001b[1;32m    510\u001b[0m           \u001b[0mdefault_dtype\u001b[0m \u001b[0;34m=\u001b[0m \u001b[0;32mNone\u001b[0m\u001b[0;34m\u001b[0m\u001b[0;34m\u001b[0m\u001b[0m\n\u001b[0;32m--> 511\u001b[0;31m           \u001b[0;32mif\u001b[0m \u001b[0minput_arg\u001b[0m\u001b[0;34m.\u001b[0m\u001b[0mtype\u001b[0m \u001b[0;34m!=\u001b[0m \u001b[0mtypes_pb2\u001b[0m\u001b[0;34m.\u001b[0m\u001b[0mDT_INVALID\u001b[0m\u001b[0;34m:\u001b[0m\u001b[0;34m\u001b[0m\u001b[0;34m\u001b[0m\u001b[0m\n\u001b[0m\u001b[1;32m    512\u001b[0m             \u001b[0mdtype\u001b[0m \u001b[0;34m=\u001b[0m \u001b[0minput_arg\u001b[0m\u001b[0;34m.\u001b[0m\u001b[0mtype\u001b[0m\u001b[0;34m\u001b[0m\u001b[0;34m\u001b[0m\u001b[0m\n\u001b[1;32m    513\u001b[0m           \u001b[0;32melif\u001b[0m \u001b[0minput_arg\u001b[0m\u001b[0;34m.\u001b[0m\u001b[0mtype_attr\u001b[0m \u001b[0;32min\u001b[0m \u001b[0mattrs\u001b[0m\u001b[0;34m:\u001b[0m\u001b[0;34m\u001b[0m\u001b[0;34m\u001b[0m\u001b[0m\n",
      "\u001b[0;32m/anaconda3/lib/python3.7/site-packages/tensorflow/python/framework/ops.py\u001b[0m in \u001b[0;36minternal_convert_to_tensor\u001b[0;34m(value, dtype, name, as_ref, preferred_dtype, ctx, accept_symbolic_tensors)\u001b[0m\n\u001b[1;32m   1173\u001b[0m                                \u001b[0maccept_symbolic_tensors\u001b[0m\u001b[0;34m=\u001b[0m\u001b[0;32mTrue\u001b[0m\u001b[0;34m,\u001b[0m\u001b[0;34m\u001b[0m\u001b[0;34m\u001b[0m\u001b[0m\n\u001b[1;32m   1174\u001b[0m                                accept_composite_tensors=False):\n\u001b[0;32m-> 1175\u001b[0;31m   \u001b[0;34m\"\"\"Implementation of the public convert_to_tensor.\"\"\"\u001b[0m\u001b[0;34m\u001b[0m\u001b[0;34m\u001b[0m\u001b[0m\n\u001b[0m\u001b[1;32m   1176\u001b[0m   \u001b[0;32mif\u001b[0m \u001b[0mctx\u001b[0m \u001b[0;32mis\u001b[0m \u001b[0;32mNone\u001b[0m\u001b[0;34m:\u001b[0m\u001b[0;34m\u001b[0m\u001b[0;34m\u001b[0m\u001b[0m\n\u001b[1;32m   1177\u001b[0m     \u001b[0mctx\u001b[0m \u001b[0;34m=\u001b[0m \u001b[0mcontext\u001b[0m\u001b[0;34m.\u001b[0m\u001b[0mcontext\u001b[0m\u001b[0;34m(\u001b[0m\u001b[0;34m)\u001b[0m\u001b[0;34m\u001b[0m\u001b[0;34m\u001b[0m\u001b[0m\n",
      "\u001b[0;32m/anaconda3/lib/python3.7/site-packages/tensorflow/python/framework/constant_op.py\u001b[0m in \u001b[0;36m_constant_tensor_conversion_function\u001b[0;34m(v, dtype, name, as_ref)\u001b[0m\n\u001b[1;32m    302\u001b[0m def _constant_tensor_conversion_function(v, dtype=None, name=None,\n\u001b[1;32m    303\u001b[0m                                          as_ref=False):\n\u001b[0;32m--> 304\u001b[0;31m   \u001b[0m_\u001b[0m \u001b[0;34m=\u001b[0m \u001b[0mas_ref\u001b[0m\u001b[0;34m\u001b[0m\u001b[0;34m\u001b[0m\u001b[0m\n\u001b[0m\u001b[1;32m    305\u001b[0m   \u001b[0;32mreturn\u001b[0m \u001b[0mconstant\u001b[0m\u001b[0;34m(\u001b[0m\u001b[0mv\u001b[0m\u001b[0;34m,\u001b[0m \u001b[0mdtype\u001b[0m\u001b[0;34m=\u001b[0m\u001b[0mdtype\u001b[0m\u001b[0;34m,\u001b[0m \u001b[0mname\u001b[0m\u001b[0;34m=\u001b[0m\u001b[0mname\u001b[0m\u001b[0;34m)\u001b[0m\u001b[0;34m\u001b[0m\u001b[0;34m\u001b[0m\u001b[0m\n\u001b[1;32m    306\u001b[0m \u001b[0;34m\u001b[0m\u001b[0m\n",
      "\u001b[0;32m/anaconda3/lib/python3.7/site-packages/tensorflow/python/framework/constant_op.py\u001b[0m in \u001b[0;36mconstant\u001b[0;34m(value, dtype, shape, name)\u001b[0m\n\u001b[1;32m    243\u001b[0m     \u001b[0mTypeError\u001b[0m\u001b[0;34m:\u001b[0m \u001b[0;32mif\u001b[0m \u001b[0mshape\u001b[0m \u001b[0;32mis\u001b[0m \u001b[0mincorrectly\u001b[0m \u001b[0mspecified\u001b[0m \u001b[0;32mor\u001b[0m \u001b[0munsupported\u001b[0m\u001b[0;34m.\u001b[0m\u001b[0;34m\u001b[0m\u001b[0;34m\u001b[0m\u001b[0m\n\u001b[1;32m    244\u001b[0m   \"\"\"\n\u001b[0;32m--> 245\u001b[0;31m   return _constant_impl(value, dtype, shape, name, verify_shape=False,\n\u001b[0m\u001b[1;32m    246\u001b[0m                         allow_broadcast=True)\n\u001b[1;32m    247\u001b[0m \u001b[0;34m\u001b[0m\u001b[0m\n",
      "\u001b[0;32m/anaconda3/lib/python3.7/site-packages/tensorflow/python/framework/constant_op.py\u001b[0m in \u001b[0;36m_constant_impl\u001b[0;34m(value, dtype, shape, name, verify_shape, allow_broadcast)\u001b[0m\n\u001b[1;32m    281\u001b[0m   tensor_value.tensor.CopyFrom(\n\u001b[1;32m    282\u001b[0m       tensor_util.make_tensor_proto(\n\u001b[0;32m--> 283\u001b[0;31m           \u001b[0mvalue\u001b[0m\u001b[0;34m,\u001b[0m \u001b[0mdtype\u001b[0m\u001b[0;34m=\u001b[0m\u001b[0mdtype\u001b[0m\u001b[0;34m,\u001b[0m \u001b[0mshape\u001b[0m\u001b[0;34m=\u001b[0m\u001b[0mshape\u001b[0m\u001b[0;34m,\u001b[0m \u001b[0mverify_shape\u001b[0m\u001b[0;34m=\u001b[0m\u001b[0mverify_shape\u001b[0m\u001b[0;34m,\u001b[0m\u001b[0;34m\u001b[0m\u001b[0;34m\u001b[0m\u001b[0m\n\u001b[0m\u001b[1;32m    284\u001b[0m           allow_broadcast=allow_broadcast))\n\u001b[1;32m    285\u001b[0m   \u001b[0mdtype_value\u001b[0m \u001b[0;34m=\u001b[0m \u001b[0mattr_value_pb2\u001b[0m\u001b[0;34m.\u001b[0m\u001b[0mAttrValue\u001b[0m\u001b[0;34m(\u001b[0m\u001b[0mtype\u001b[0m\u001b[0;34m=\u001b[0m\u001b[0mtensor_value\u001b[0m\u001b[0;34m.\u001b[0m\u001b[0mtensor\u001b[0m\u001b[0;34m.\u001b[0m\u001b[0mdtype\u001b[0m\u001b[0;34m)\u001b[0m\u001b[0;34m\u001b[0m\u001b[0;34m\u001b[0m\u001b[0m\n",
      "\u001b[0;32m/anaconda3/lib/python3.7/site-packages/tensorflow/python/framework/tensor_util.py\u001b[0m in \u001b[0;36mmake_tensor_proto\u001b[0;34m(values, dtype, shape, verify_shape, allow_broadcast)\u001b[0m\n\u001b[1;32m    571\u001b[0m     raise TypeError(\n\u001b[1;32m    572\u001b[0m         \"Element type not supported in TensorProto: %s\" % numpy_dtype.name)\n\u001b[0;32m--> 573\u001b[0;31m   \u001b[0mappend_fn\u001b[0m\u001b[0;34m(\u001b[0m\u001b[0mtensor_proto\u001b[0m\u001b[0;34m,\u001b[0m \u001b[0mproto_values\u001b[0m\u001b[0;34m)\u001b[0m\u001b[0;34m\u001b[0m\u001b[0;34m\u001b[0m\u001b[0m\n\u001b[0m\u001b[1;32m    574\u001b[0m \u001b[0;34m\u001b[0m\u001b[0m\n\u001b[1;32m    575\u001b[0m   \u001b[0;32mreturn\u001b[0m \u001b[0mtensor_proto\u001b[0m\u001b[0;34m\u001b[0m\u001b[0;34m\u001b[0m\u001b[0m\n",
      "\u001b[0;32mtensorflow/python/framework/fast_tensor_util.pyx\u001b[0m in \u001b[0;36mtensorflow.python.framework.fast_tensor_util.AppendBoolArrayToTensorProto\u001b[0;34m()\u001b[0m\n",
      "\u001b[0;32m/anaconda3/lib/python3.7/site-packages/numpy/lib/type_check.py\u001b[0m in \u001b[0;36masscalar\u001b[0;34m(***failed resolving arguments***)\u001b[0m\n\u001b[1;32m    545\u001b[0m     warnings.warn('np.asscalar(a) is deprecated since NumPy v1.16, use '\n\u001b[1;32m    546\u001b[0m                   'a.item() instead', DeprecationWarning, stacklevel=1)\n\u001b[0;32m--> 547\u001b[0;31m     \u001b[0;32mreturn\u001b[0m \u001b[0ma\u001b[0m\u001b[0;34m.\u001b[0m\u001b[0mitem\u001b[0m\u001b[0;34m(\u001b[0m\u001b[0;34m)\u001b[0m\u001b[0;34m\u001b[0m\u001b[0;34m\u001b[0m\u001b[0m\n\u001b[0m\u001b[1;32m    548\u001b[0m \u001b[0;34m\u001b[0m\u001b[0m\n\u001b[1;32m    549\u001b[0m \u001b[0;31m#-----------------------------------------------------------------------------\u001b[0m\u001b[0;34m\u001b[0m\u001b[0;34m\u001b[0m\u001b[0;34m\u001b[0m\u001b[0m\n",
      "\u001b[0;31mUnboundLocalError\u001b[0m: local variable 'a' referenced before assignment"
     ]
    }
   ],
   "source": [
    "model = Sequential()\n",
    "model.add(Dense(12, input_dim=(182), activation='relu'))\n",
    "model.add(BatchNormalization())\n",
    "model.add(Dropout(0.25))\n",
    "model.add(Dense(8, activation='relu'))\n",
    "model.add(BatchNormalization())\n",
    "model.add(Dropout(0.25))\n",
    "model.add(Dense(2, activation='softmax'))"
   ]
  },
  {
   "cell_type": "code",
   "execution_count": 72,
   "metadata": {},
   "outputs": [
    {
     "name": "stdout",
     "output_type": "stream",
     "text": [
      "_________________________________________________________________\n",
      "Layer (type)                 Output Shape              Param #   \n",
      "=================================================================\n",
      "dense_10 (Dense)             (None, 12)                2196      \n",
      "_________________________________________________________________\n",
      "dense_11 (Dense)             (None, 8)                 104       \n",
      "_________________________________________________________________\n",
      "dense_12 (Dense)             (None, 2)                 18        \n",
      "=================================================================\n",
      "Total params: 2,318\n",
      "Trainable params: 2,318\n",
      "Non-trainable params: 0\n",
      "_________________________________________________________________\n",
      "None\n"
     ]
    }
   ],
   "source": [
    "print(model.summary())"
   ]
  },
  {
   "cell_type": "code",
   "execution_count": 74,
   "metadata": {},
   "outputs": [],
   "source": [
    "# Compile model\n",
    "model.compile(loss='sparse_categorical_crossentropy', optimizer='adam', metrics=['accuracy'])"
   ]
  },
  {
   "cell_type": "code",
   "execution_count": 75,
   "metadata": {
    "collapsed": true
   },
   "outputs": [
    {
     "name": "stdout",
     "output_type": "stream",
     "text": [
      "Train on 31395 samples, validate on 5541 samples\n",
      "Epoch 1/30\n",
      "31395/31395 [==============================] - 1s 25us/step - loss: 0.6484 - acc: 0.6121 - val_loss: 0.8516 - val_acc: 0.2167\n",
      "Epoch 2/30\n",
      "31395/31395 [==============================] - 1s 17us/step - loss: 0.6009 - acc: 0.6399 - val_loss: 0.7205 - val_acc: 0.5250\n",
      "Epoch 3/30\n",
      "31395/31395 [==============================] - 1s 16us/step - loss: 0.5813 - acc: 0.6655 - val_loss: 0.7307 - val_acc: 0.5687\n",
      "Epoch 4/30\n",
      "31395/31395 [==============================] - 1s 17us/step - loss: 0.5644 - acc: 0.6862 - val_loss: 0.7036 - val_acc: 0.6234\n",
      "Epoch 5/30\n",
      "31395/31395 [==============================] - 1s 17us/step - loss: 0.5494 - acc: 0.7025 - val_loss: 0.7187 - val_acc: 0.5245\n",
      "Epoch 6/30\n",
      "31395/31395 [==============================] - 1s 17us/step - loss: 0.5352 - acc: 0.7115 - val_loss: 0.6368 - val_acc: 0.6665\n",
      "Epoch 7/30\n",
      "31395/31395 [==============================] - 1s 18us/step - loss: 0.5213 - acc: 0.7230 - val_loss: 0.7104 - val_acc: 0.5032\n",
      "Epoch 8/30\n",
      "31395/31395 [==============================] - 1s 19us/step - loss: 0.5093 - acc: 0.7320 - val_loss: 0.6929 - val_acc: 0.5106\n",
      "Epoch 9/30\n",
      "31395/31395 [==============================] - 1s 20us/step - loss: 0.4988 - acc: 0.7440 - val_loss: 0.6620 - val_acc: 0.6598\n",
      "Epoch 10/30\n",
      "31395/31395 [==============================] - 1s 21us/step - loss: 0.4895 - acc: 0.7433 - val_loss: 0.6448 - val_acc: 0.6309\n",
      "Epoch 11/30\n",
      "31395/31395 [==============================] - 1s 20us/step - loss: 0.4813 - acc: 0.7474 - val_loss: 0.6514 - val_acc: 0.4894\n",
      "Epoch 12/30\n",
      "31395/31395 [==============================] - 1s 25us/step - loss: 0.4749 - acc: 0.7507 - val_loss: 0.6334 - val_acc: 0.6351\n",
      "Epoch 13/30\n",
      "31395/31395 [==============================] - 1s 21us/step - loss: 0.4696 - acc: 0.7516 - val_loss: 0.5845 - val_acc: 0.5849\n",
      "Epoch 14/30\n",
      "31395/31395 [==============================] - 1s 17us/step - loss: 0.4632 - acc: 0.7565 - val_loss: 0.6402 - val_acc: 0.5746\n",
      "Epoch 15/30\n",
      "31395/31395 [==============================] - 1s 23us/step - loss: 0.4598 - acc: 0.7573 - val_loss: 0.5820 - val_acc: 0.5782\n",
      "Epoch 16/30\n",
      "31395/31395 [==============================] - 1s 21us/step - loss: 0.4568 - acc: 0.7548 - val_loss: 0.6642 - val_acc: 0.5268\n",
      "Epoch 17/30\n",
      "31395/31395 [==============================] - 1s 22us/step - loss: 0.4540 - acc: 0.7598 - val_loss: 0.7124 - val_acc: 0.4837\n",
      "Epoch 18/30\n",
      "31395/31395 [==============================] - 1s 19us/step - loss: 0.4519 - acc: 0.7592 - val_loss: 0.6362 - val_acc: 0.5317\n",
      "Epoch 19/30\n",
      "31395/31395 [==============================] - 1s 18us/step - loss: 0.4489 - acc: 0.7622 - val_loss: 0.6253 - val_acc: 0.6349\n",
      "Epoch 20/30\n",
      "31395/31395 [==============================] - 1s 19us/step - loss: 0.4479 - acc: 0.7589 - val_loss: 0.5766 - val_acc: 0.6190\n",
      "Epoch 21/30\n",
      "31395/31395 [==============================] - 1s 18us/step - loss: 0.4459 - acc: 0.7613 - val_loss: 0.6929 - val_acc: 0.4959\n",
      "Epoch 22/30\n",
      "31395/31395 [==============================] - 1s 18us/step - loss: 0.4451 - acc: 0.7623 - val_loss: 0.5130 - val_acc: 0.6816\n",
      "Epoch 23/30\n",
      "31395/31395 [==============================] - 1s 20us/step - loss: 0.4437 - acc: 0.7634 - val_loss: 0.6421 - val_acc: 0.5208\n",
      "Epoch 24/30\n",
      "31395/31395 [==============================] - 1s 19us/step - loss: 0.4432 - acc: 0.7631 - val_loss: 0.5171 - val_acc: 0.6658\n",
      "Epoch 25/30\n",
      "31395/31395 [==============================] - 1s 20us/step - loss: 0.4413 - acc: 0.7648 - val_loss: 0.5551 - val_acc: 0.6679\n",
      "Epoch 26/30\n",
      "31395/31395 [==============================] - 1s 19us/step - loss: 0.4415 - acc: 0.7623 - val_loss: 0.6658 - val_acc: 0.5355\n",
      "Epoch 27/30\n",
      "31395/31395 [==============================] - 1s 19us/step - loss: 0.4403 - acc: 0.7642 - val_loss: 0.5593 - val_acc: 0.6203\n",
      "Epoch 28/30\n",
      "31395/31395 [==============================] - 1s 18us/step - loss: 0.4389 - acc: 0.7643 - val_loss: 0.5571 - val_acc: 0.5817\n",
      "Epoch 29/30\n",
      "31395/31395 [==============================] - 1s 18us/step - loss: 0.4385 - acc: 0.7649 - val_loss: 0.6602 - val_acc: 0.5867\n",
      "Epoch 30/30\n",
      "31395/31395 [==============================] - 1s 19us/step - loss: 0.4383 - acc: 0.7645 - val_loss: 0.6135 - val_acc: 0.6187\n"
     ]
    }
   ],
   "source": [
    "# Fit the model\n",
    "history = model.fit(X_train_res, y_train_res, epochs=30, batch_size=60, validation_split=0.15, shuffle= True)"
   ]
  },
  {
   "cell_type": "code",
   "execution_count": 76,
   "metadata": {},
   "outputs": [
    {
     "name": "stdout",
     "output_type": "stream",
     "text": [
      "Train: 0.745, Test: 0.868\n"
     ]
    }
   ],
   "source": [
    "# evaluate the model\n",
    "_, train_acc = model.evaluate(X_train_res, y_train_res, verbose=0)\n",
    "_, test_acc = model.evaluate(X_test, y_test, verbose=0)\n",
    "print('Train: %.3f, Test: %.3f' % (train_acc, test_acc))"
   ]
  },
  {
   "cell_type": "code",
   "execution_count": 77,
   "metadata": {},
   "outputs": [
    {
     "data": {
      "image/png": "[encoded data removed]",
      "text/plain": [
       "<Figure size 432x288 with 2 Axes>"
      ]
     },
     "metadata": {
      "needs_background": "light"
     },
     "output_type": "display_data"
    }
   ],
   "source": [
    "from matplotlib import pyplot\n",
    "\n",
    "# plot loss during training\n",
    "pyplot.subplot(211)\n",
    "pyplot.title('Loss')\n",
    "pyplot.plot(history.history['loss'], label='train')\n",
    "pyplot.plot(history.history['val_loss'], label='test')\n",
    "pyplot.legend()\n",
    "# plot accuracy during training\n",
    "pyplot.subplot(212)\n",
    "pyplot.title('Accuracy')\n",
    "pyplot.plot(history.history['acc'], label='train')\n",
    "pyplot.plot(history.history['val_acc'], label='test')\n",
    "pyplot.legend()\n",
    "pyplot.show()"
   ]
  },
  {
   "cell_type": "code",
   "execution_count": 144,
   "metadata": {},
   "outputs": [
    {
     "name": "stdout",
     "output_type": "stream",
     "text": [
      "              precision    recall  f1-score   support\n",
      "\n",
      "           0       0.99      0.86      0.92      4623\n",
      "           1       0.01      0.14      0.02        57\n",
      "\n",
      "   micro avg       0.85      0.85      0.85      4680\n",
      "   macro avg       0.50      0.50      0.47      4680\n",
      "weighted avg       0.98      0.85      0.91      4680\n",
      "\n"
     ]
    }
   ],
   "source": [
    "\n",
    "y_pred = model_2.predict_classes(X_test)\n",
    "print(classification_report(y_test, y_pred))"
   ]
  },
  {
   "cell_type": "code",
   "execution_count": 145,
   "metadata": {},
   "outputs": [
    {
     "name": "stdout",
     "output_type": "stream",
     "text": [
      "AUC: 0.504\n"
     ]
    },
    {
     "data": {
      "image/png": "[encoded data removed]",
      "text/plain": [
       "<Figure size 432x288 with 1 Axes>"
      ]
     },
     "metadata": {
      "needs_background": "light"
     },
     "output_type": "display_data"
    }
   ],
   "source": [
    "# predict probabilities\n",
    "probs = model.predict_proba(X_test)\n",
    "# keep probabilities for the positive outcome only\n",
    "probs = probs[:, 1]\n",
    "# calculate AUC\n",
    "auc = roc_auc_score(y_test, probs)\n",
    "print('AUC: %.3f' % auc)\n",
    "# calculate roc curve\n",
    "fpr, tpr, thresholds = roc_curve(y_test, probs)\n",
    "# plot no skill\n",
    "pyplot.plot([0, 1], [0, 1], linestyle='--')\n",
    "# plot the roc curve for the model\n",
    "pyplot.plot(fpr, tpr, marker='.')\n",
    "# show the plot\n",
    "pyplot.show()"
   ]
  },
  {
   "cell_type": "markdown",
   "metadata": {},
   "source": [
    "# NN "
   ]
  },
  {
   "cell_type": "code",
   "execution_count": 146,
   "metadata": {},
   "outputs": [
    {
     "name": "stdout",
     "output_type": "stream",
     "text": [
      "_________________________________________________________________\n",
      "Layer (type)                 Output Shape              Param #   \n",
      "=================================================================\n",
      "dense_25 (Dense)             (None, 12)                2196      \n",
      "_________________________________________________________________\n",
      "dense_26 (Dense)             (None, 8)                 104       \n",
      "_________________________________________________________________\n",
      "dense_27 (Dense)             (None, 2)                 18        \n",
      "=================================================================\n",
      "Total params: 2,318\n",
      "Trainable params: 2,318\n",
      "Non-trainable params: 0\n",
      "_________________________________________________________________\n",
      "None\n"
     ]
    }
   ],
   "source": [
    "# create model\n",
    "model_2 = Sequential()\n",
    "model_2.add(Dense(12, input_dim=(182), activation='relu'))\n",
    "model_2.add(Dense(8, activation='relu'))\n",
    "model_2.add(Dense(2, activation='sigmoid'))\n",
    "print(model_2.summary())"
   ]
  },
  {
   "cell_type": "code",
   "execution_count": 147,
   "metadata": {},
   "outputs": [],
   "source": [
    "# Compile model\n",
    "from sklearn.metrics import precision_score, recall_score\n",
    "import keras as keras\n",
    "model_2.compile(loss='sparse_categorical_crossentropy', optimizer='sgd', metrics=['accuracy'])\n"
   ]
  },
  {
   "cell_type": "code",
   "execution_count": 148,
   "metadata": {
    "scrolled": false
   },
   "outputs": [
    {
     "name": "stdout",
     "output_type": "stream",
     "text": [
      "Train on 31395 samples, validate on 5541 samples\n",
      "Epoch 1/30\n",
      "31395/31395 [==============================] - 1s 29us/step - loss: 0.6847 - acc: 0.5797 - val_loss: 0.8081 - val_acc: 0.0000e+00\n",
      "Epoch 2/30\n",
      "31395/31395 [==============================] - 1s 16us/step - loss: 0.6774 - acc: 0.5882 - val_loss: 0.8631 - val_acc: 0.0000e+00\n",
      "Epoch 3/30\n",
      "31395/31395 [==============================] - 1s 16us/step - loss: 0.6755 - acc: 0.5882 - val_loss: 0.8803 - val_acc: 0.0000e+00\n",
      "Epoch 4/30\n",
      "31395/31395 [==============================] - 0s 16us/step - loss: 0.6744 - acc: 0.5882 - val_loss: 0.8920 - val_acc: 0.0000e+00\n",
      "Epoch 5/30\n",
      "31395/31395 [==============================] - 1s 17us/step - loss: 0.6734 - acc: 0.5882 - val_loss: 0.8905 - val_acc: 0.0000e+00\n",
      "Epoch 6/30\n",
      "31395/31395 [==============================] - 1s 16us/step - loss: 0.6722 - acc: 0.5882 - val_loss: 0.8969 - val_acc: 0.0000e+00\n",
      "Epoch 7/30\n",
      "31395/31395 [==============================] - 1s 16us/step - loss: 0.6709 - acc: 0.5882 - val_loss: 0.8877 - val_acc: 0.0000e+00\n",
      "Epoch 8/30\n",
      "31395/31395 [==============================] - 1s 16us/step - loss: 0.6694 - acc: 0.5882 - val_loss: 0.8891 - val_acc: 0.0000e+00\n",
      "Epoch 9/30\n",
      "31395/31395 [==============================] - 0s 16us/step - loss: 0.6678 - acc: 0.5882 - val_loss: 0.8925 - val_acc: 0.0000e+00\n",
      "Epoch 10/30\n",
      "31395/31395 [==============================] - 0s 15us/step - loss: 0.6659 - acc: 0.5882 - val_loss: 0.8910 - val_acc: 0.0000e+00\n",
      "Epoch 11/30\n",
      "31395/31395 [==============================] - 0s 15us/step - loss: 0.6638 - acc: 0.5882 - val_loss: 0.8830 - val_acc: 0.0000e+00\n",
      "Epoch 12/30\n",
      "31395/31395 [==============================] - 1s 17us/step - loss: 0.6615 - acc: 0.5882 - val_loss: 0.8771 - val_acc: 0.0000e+00\n",
      "Epoch 13/30\n",
      "31395/31395 [==============================] - 0s 16us/step - loss: 0.6589 - acc: 0.5882 - val_loss: 0.8754 - val_acc: 0.0000e+00\n",
      "Epoch 14/30\n",
      "31395/31395 [==============================] - 1s 16us/step - loss: 0.6559 - acc: 0.5882 - val_loss: 0.8826 - val_acc: 5.4142e-04\n",
      "Epoch 15/30\n",
      "31395/31395 [==============================] - 1s 19us/step - loss: 0.6528 - acc: 0.5904 - val_loss: 0.8596 - val_acc: 0.0191\n",
      "Epoch 16/30\n",
      "31395/31395 [==============================] - 1s 18us/step - loss: 0.6494 - acc: 0.5983 - val_loss: 0.8567 - val_acc: 0.0325\n",
      "Epoch 17/30\n",
      "31395/31395 [==============================] - 1s 17us/step - loss: 0.6459 - acc: 0.6020 - val_loss: 0.8473 - val_acc: 0.1103\n",
      "Epoch 18/30\n",
      "31395/31395 [==============================] - 1s 19us/step - loss: 0.6424 - acc: 0.6050 - val_loss: 0.8490 - val_acc: 0.1473\n",
      "Epoch 19/30\n",
      "31395/31395 [==============================] - 1s 17us/step - loss: 0.6392 - acc: 0.6108 - val_loss: 0.8462 - val_acc: 0.2097\n",
      "Epoch 20/30\n",
      "31395/31395 [==============================] - 1s 18us/step - loss: 0.6362 - acc: 0.6146 - val_loss: 0.8126 - val_acc: 0.2745\n",
      "Epoch 21/30\n",
      "31395/31395 [==============================] - 1s 16us/step - loss: 0.6335 - acc: 0.6202 - val_loss: 0.8387 - val_acc: 0.2440\n",
      "Epoch 22/30\n",
      "31395/31395 [==============================] - 1s 17us/step - loss: 0.6310 - acc: 0.6198 - val_loss: 0.8106 - val_acc: 0.3261\n",
      "Epoch 23/30\n",
      "31395/31395 [==============================] - 1s 17us/step - loss: 0.6286 - acc: 0.6222 - val_loss: 0.8118 - val_acc: 0.3443\n",
      "Epoch 24/30\n",
      "31395/31395 [==============================] - 1s 16us/step - loss: 0.6261 - acc: 0.6243 - val_loss: 0.8166 - val_acc: 0.3492\n",
      "Epoch 25/30\n",
      "31395/31395 [==============================] - 0s 16us/step - loss: 0.6237 - acc: 0.6275 - val_loss: 0.7924 - val_acc: 0.3994\n",
      "Epoch 26/30\n",
      "31395/31395 [==============================] - 0s 16us/step - loss: 0.6212 - acc: 0.6303 - val_loss: 0.8023 - val_acc: 0.3994\n",
      "Epoch 27/30\n",
      "31395/31395 [==============================] - 1s 17us/step - loss: 0.6187 - acc: 0.6338 - val_loss: 0.7985 - val_acc: 0.4071\n",
      "Epoch 28/30\n",
      "31395/31395 [==============================] - 1s 16us/step - loss: 0.6162 - acc: 0.6351 - val_loss: 0.8043 - val_acc: 0.4106\n",
      "Epoch 29/30\n",
      "31395/31395 [==============================] - 1s 16us/step - loss: 0.6137 - acc: 0.6365 - val_loss: 0.8078 - val_acc: 0.4117\n",
      "Epoch 30/30\n",
      "31395/31395 [==============================] - 1s 16us/step - loss: 0.6113 - acc: 0.6389 - val_loss: 0.7742 - val_acc: 0.4876\n"
     ]
    }
   ],
   "source": [
    "# Fit the model\n",
    "history = model_2.fit(X_train_res, y_train_res, epochs=30, batch_size=60, validation_split=0.15, shuffle= True)"
   ]
  },
  {
   "cell_type": "code",
   "execution_count": 149,
   "metadata": {},
   "outputs": [
    {
     "name": "stdout",
     "output_type": "stream",
     "text": [
      "Train: 0.614, Test: 0.714\n"
     ]
    }
   ],
   "source": [
    "# evaluate the model\n",
    "_, train_acc = model_2.evaluate(X_train_res, y_train_res, verbose=0)\n",
    "_, test_acc = model_2.evaluate(X_test, y_test, verbose=0)\n",
    "print('Train: %.3f, Test: %.3f' % (train_acc, test_acc))"
   ]
  },
  {
   "cell_type": "code",
   "execution_count": 150,
   "metadata": {},
   "outputs": [
    {
     "data": {
      "image/png": "[encoded data removed]",
      "text/plain": [
       "<Figure size 432x288 with 2 Axes>"
      ]
     },
     "metadata": {
      "needs_background": "light"
     },
     "output_type": "display_data"
    }
   ],
   "source": [
    "from matplotlib import pyplot\n",
    "\n",
    "# plot loss during training\n",
    "pyplot.subplot(211)\n",
    "pyplot.title('Loss')\n",
    "pyplot.plot(history.history['loss'], label='train')\n",
    "pyplot.plot(history.history['val_loss'], label='test')\n",
    "pyplot.legend()\n",
    "# plot accuracy during training\n",
    "pyplot.subplot(212)\n",
    "pyplot.title('Accuracy')\n",
    "pyplot.plot(history.history['acc'], label='train')\n",
    "pyplot.plot(history.history['val_acc'], label='test')\n",
    "pyplot.legend()\n",
    "pyplot.show()"
   ]
  },
  {
   "cell_type": "code",
   "execution_count": 151,
   "metadata": {},
   "outputs": [
    {
     "data": {
      "image/png": "[encoded data removed]",
      "text/plain": [
       "<Figure size 432x288 with 1 Axes>"
      ]
     },
     "metadata": {
      "needs_background": "light"
     },
     "output_type": "display_data"
    }
   ],
   "source": [
    "from matplotlib import pyplot\n",
    "# plot metrics\n",
    "# plot metrics\n",
    "pyplot.plot(history.history['acc'])\n",
    "pyplot.show()"
   ]
  },
  {
   "cell_type": "code",
   "execution_count": 152,
   "metadata": {},
   "outputs": [
    {
     "name": "stdout",
     "output_type": "stream",
     "text": [
      "              precision    recall  f1-score   support\n",
      "\n",
      "           0       0.99      0.72      0.83      4623\n",
      "           1       0.01      0.30      0.02        57\n",
      "\n",
      "   micro avg       0.71      0.71      0.71      4680\n",
      "   macro avg       0.50      0.51      0.43      4680\n",
      "weighted avg       0.98      0.71      0.82      4680\n",
      "\n"
     ]
    }
   ],
   "source": [
    "\n",
    "y_pred = model_2.predict_classes(X_test)\n",
    "print(classification_report(y_test, y_pred))"
   ]
  },
  {
   "cell_type": "code",
   "execution_count": null,
   "metadata": {},
   "outputs": [],
   "source": []
  }
 ],
 "metadata": {
  "kernelspec": {
   "display_name": "Python 3",
   "language": "python",
   "name": "python3"
  },
  "language_info": {
   "codemirror_mode": {
    "name": "ipython",
    "version": 3
   },
   "file_extension": ".py",
   "mimetype": "text/x-python",
   "name": "python",
   "nbconvert_exporter": "python",
   "pygments_lexer": "ipython3",
   "version": "3.7.3"
  }
 },
 "nbformat": 4,
 "nbformat_minor": 2
}
